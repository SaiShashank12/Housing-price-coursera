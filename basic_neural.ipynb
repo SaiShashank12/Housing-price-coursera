{
  "nbformat": 4,
  "nbformat_minor": 0,
  "metadata": {
    "colab": {
      "name": "Untitled3.ipynb",
      "provenance": []
    },
    "kernelspec": {
      "name": "python3",
      "display_name": "Python 3"
    }
  },
  "cells": [
    {
      "cell_type": "code",
      "metadata": {
        "id": "GblX49kAKH4g",
        "colab_type": "code",
        "colab": {}
      },
      "source": [
        "import tensorflow as tf\n",
        "import numpy as np\n",
        "from tensorflow import keras"
      ],
      "execution_count": 1,
      "outputs": []
    },
    {
      "cell_type": "code",
      "metadata": {
        "id": "XOanmdq-KwXR",
        "colab_type": "code",
        "colab": {}
      },
      "source": [
        "def house_model(y_new):\n",
        "    xs = np.array([1.0, 2.0, 3.0, 4.0, 5.0, 6.0,8.0, 9.0, 10.0,11.0, 12.0, 13.0], dtype=float)\n",
        "    ys = np.array([100.0, 150.0, 200.0, 250.0, 300.0, 350.0, 450.0, 500.0, 550.0,600.0, 650.0,700.0], dtype=float)\n",
        "\n",
        "    model = keras.Sequential([keras.layers.Dense(units=1,input_shape=[1])])\n",
        "    model.compile(optimizer='sgd',loss='mean_squared_error')\n",
        "    model.fit(xs,ys,epochs=1000)\n",
        "\n",
        "    return (model.predict(y_new)[0]+1)"
      ],
      "execution_count": 8,
      "outputs": []
    },
    {
      "cell_type": "code",
      "metadata": {
        "id": "BzX8HuxZMOTI",
        "colab_type": "code",
        "colab": {
          "base_uri": "https://localhost:8080/",
          "height": 374
        },
        "outputId": "b5a76b28-4e44-4b45-ec7e-57fce5382a20"
      },
      "source": [
        "prediction = house_model([7.0])\n",
        "print(prediction)"
      ],
      "execution_count": 9,
      "outputs": [
        {
          "output_type": "stream",
          "text": [
            "Epoch 1/10\n",
            "1/1 [==============================] - 0s 2ms/step - loss: 188494.4375\n",
            "Epoch 2/10\n",
            "1/1 [==============================] - 0s 2ms/step - loss: 2157.2522\n",
            "Epoch 3/10\n",
            "1/1 [==============================] - 0s 2ms/step - loss: 329.7336\n",
            "Epoch 4/10\n",
            "1/1 [==============================] - 0s 2ms/step - loss: 310.4638\n",
            "Epoch 5/10\n",
            "1/1 [==============================] - 0s 2ms/step - loss: 308.9265\n",
            "Epoch 6/10\n",
            "1/1 [==============================] - 0s 1ms/step - loss: 307.5749\n",
            "Epoch 7/10\n",
            "1/1 [==============================] - 0s 1ms/step - loss: 306.2365\n",
            "Epoch 8/10\n",
            "1/1 [==============================] - 0s 3ms/step - loss: 304.9101\n",
            "Epoch 9/10\n",
            "1/1 [==============================] - 0s 3ms/step - loss: 303.5948\n",
            "Epoch 10/10\n",
            "1/1 [==============================] - 0s 3ms/step - loss: 302.2912\n",
            "[425.08426]\n"
          ],
          "name": "stdout"
        }
      ]
    },
    {
      "cell_type": "code",
      "metadata": {
        "id": "G7S08im5MRI-",
        "colab_type": "code",
        "colab": {}
      },
      "source": [
        ""
      ],
      "execution_count": null,
      "outputs": []
    }
  ]
}